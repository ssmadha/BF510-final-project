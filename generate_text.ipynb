{
 "cells": [
  {
   "cell_type": "markdown",
   "id": "b0f18dba",
   "metadata": {},
   "source": [
    "This notebook showcases the use of the GPT-2 model finetuned on scientific articles (SAG)"
   ]
  },
  {
   "cell_type": "markdown",
   "id": "655c8df2",
   "metadata": {},
   "source": [
    "Load the necessary libraries"
   ]
  },
  {
   "cell_type": "code",
   "execution_count": 7,
   "id": "26c0da4c",
   "metadata": {},
   "outputs": [],
   "source": [
    "from transformers import AutoModelForCausalLM, AutoTokenizer"
   ]
  },
  {
   "cell_type": "markdown",
   "id": "dc3c000f",
   "metadata": {},
   "source": [
    "Load the GPT-2 model and the SAG model"
   ]
  },
  {
   "cell_type": "code",
   "execution_count": 11,
   "id": "e10e3d7e",
   "metadata": {
    "scrolled": true
   },
   "outputs": [],
   "source": [
    "model_gpt2 = AutoModelForCausalLM.from_pretrained(\"gpt2\")\n",
    "model_sag = AutoModelForCausalLM.from_pretrained(\"ssmadha/gpt2-finetuned-scientific-articles\")\n",
    "tokenizer = AutoTokenizer.from_pretrained(\"gpt2\")"
   ]
  },
  {
   "cell_type": "markdown",
   "id": "e587f519",
   "metadata": {},
   "source": [
    "Define a function to run the two models and print their outputs"
   ]
  },
  {
   "cell_type": "code",
   "execution_count": 12,
   "id": "4b1c28aa",
   "metadata": {
    "scrolled": true
   },
   "outputs": [],
   "source": [
    "def print_generated_text(prompt):\n",
    "    if not prompt[-1]==\" \":\n",
    "        prompt += \" \"\n",
    "    inputs = tokenizer(prompt, add_special_tokens=False, return_tensors=\"pt\")[\"input_ids\"]\n",
    "    prompt_length = len(tokenizer.decode(inputs[0]))\n",
    "    outputs_gpt2 = model_sag.generate(inputs, max_length=250, do_sample=True, top_p=0.95, top_k=60)\n",
    "    generated_gpt2 = prompt + tokenizer.decode(outputs_gpt2[0])[prompt_length+1:]\n",
    "    outputs_sag = model_sag.generate(inputs, max_length=250, do_sample=True, top_p=0.95, top_k=60)\n",
    "    generated_sag = prompt + tokenizer.decode(outputs_sag[0])[prompt_length+1:]\n",
    "    print(\"Prompt: \" + prompt)\n",
    "    print(\"GPT-2 generated text:\")\n",
    "    print(generated_gpt2)\n",
    "    print(\"SAG generated text:\")\n",
    "    print(generated_sag)"
   ]
  },
  {
   "cell_type": "markdown",
   "id": "1a2d729f",
   "metadata": {},
   "source": [
    "Print the outputs of three different prompts"
   ]
  },
  {
   "cell_type": "code",
   "execution_count": 13,
   "id": "cf3be834",
   "metadata": {},
   "outputs": [
    {
     "name": "stderr",
     "output_type": "stream",
     "text": [
      "Setting `pad_token_id` to `eos_token_id`:50256 for open-end generation.\n",
      "Setting `pad_token_id` to `eos_token_id`:50256 for open-end generation.\n"
     ]
    },
    {
     "name": "stdout",
     "output_type": "stream",
     "text": [
      "Prompt: Racial bias is \n",
      "GPT-2 generated text:\n",
      "Racial bias is the systematic discrimination of biological material using a method which avoids the need to define characteristics. This is because only biological material which is not available from other biological resources, and therefore can not be used by others, is considered. This principle can be applied to many kinds of biological resources, from biological materials which can be synthesised through industrial processes to biological materials which are not biological materials. Biochemical resources can be used by other biological resources too as well; the biological material which is produced can be compared between these bioresources.However, some methodological concerns arise in interpreting the reference materials’s identification and classification, e.g. when comparing different biological resources (e.g. the biological materials obtained during the manufacturing process).The literature on classification is primarily concerned with biological material quality, ie, whether it satisfies the physical, mechanical, and chemical properties and whether it is suitable for biological systems or otherwise. Biochemical resources can and have already been classified by different methods to varying degrees. For example, in the assessment of high fidelity biological materials, the criterion is that the biological materials are suitable for a diverse number of applications. This process has been used in many laboratories, especially as an independent assessment tool.The classification system\n",
      "SAG generated text:\n",
      "Racial bias is a commonly accepted explanation of discrimination and exploitation of minorities, the most recent studies showing that, despite the considerable gains that have been made for many countries, the majority of minorities are still disproportionately affected in their ethnic background. Indeed, despite the efforts to tackle the phenomenon by focusing on the socio-economic and socio-cultural mechanisms that account for the discrimination, this paper has focused on the socioeconomic and political contexts for the discrimination. This provides a framework for understanding the effect of prejudice in different countries, to better understand the mechanisms that lead to these disparities and to provide a framework for investigating the effects of social disparities on racial prejudice. These studies aimed to understand the economic and political impacts of discrimination, and how these social barriers and socio-economic barriers can play a role in disparities in the study of racial prejudice (Vernan, 2007). The purpose of the paper is to identify the impact of discrimination in different countries on different levels of socioeconomic and political diversity in the population and to explore ways in which social inequalities can impact minority representation and exploitation in other fields.<|endoftext|>\n"
     ]
    }
   ],
   "source": [
    "print_generated_text(\"Racial bias is\")"
   ]
  },
  {
   "cell_type": "code",
   "execution_count": 14,
   "id": "61d4b46e",
   "metadata": {},
   "outputs": [
    {
     "name": "stderr",
     "output_type": "stream",
     "text": [
      "Setting `pad_token_id` to `eos_token_id`:50256 for open-end generation.\n",
      "Setting `pad_token_id` to `eos_token_id`:50256 for open-end generation.\n"
     ]
    },
    {
     "name": "stdout",
     "output_type": "stream",
     "text": [
      "Prompt: The concept that race is biological is \n",
      "GPT-2 generated text:\n",
      "The concept that race is biological is inclusive (Schnorova, 1996; Hebert and Vellar, 2004; Vellar et al., 2015; Hebert et al., 2015; Kluger et al., 2016; Oster and Thaddeus, 2015). Race is not a natural phenomenon. Racism is intrinsic to biology: A race is a natural phenomenon when the genetic diversity of a population is maximally high (Hebert, 1998). Racism is biologically significant in terms of several biological processes: It can be a biological consequence of structural genetic variation and functional variants (Gautier et al., 2014; Hebert et al., 2015; Hebert et al., 2015; Hebert et al., 2014; Hebert et al., 2014), as well as a social consequence of a heterogeneous population that, when applied in conjunction with a social order, will also lead to increased inequality in the social situation (Nguyen et al., 2012). Race plays an important role in biological processes: Race (and especially ethnicity) play roles in the structure of social structures (Hebert et al., 2015; Hebert et al., 2015; Hebert et al., 2015; Hebert et al., 2014\n",
      "SAG generated text:\n",
      "The concept that race is biological is often dismissed as a problem of bias  on the part of men. But to the great majority of scientists there is no such thing as a biologically-based view, and white-female differences in differences in associations between groups can be traced back to race (cf. McClatchy 1993, 2010). In fact, many aspects of intelligence evolve in societies which relating to genetic drift are perversely disordered. In short, the assumption is that race is an independent part of human biology. When the relevance of race to our society is challenged, it is often assumed that race is inversely disordered. However, it is clear that the nature and magnitude of these differences are not consistent with those implications. Race can be explained by a variation in individual cognitive abilities or by traits that make a different associate with race. In this study we sought to address both of these questions by constructing a set of computational data and applying the concept of race\n"
     ]
    }
   ],
   "source": [
    "print_generated_text(\"The concept that race is biological is\")"
   ]
  },
  {
   "cell_type": "code",
   "execution_count": 15,
   "id": "018f5042",
   "metadata": {},
   "outputs": [
    {
     "name": "stderr",
     "output_type": "stream",
     "text": [
      "Setting `pad_token_id` to `eos_token_id`:50256 for open-end generation.\n",
      "Setting `pad_token_id` to `eos_token_id`:50256 for open-end generation.\n"
     ]
    },
    {
     "name": "stdout",
     "output_type": "stream",
     "text": [
      "Prompt: Algorithmic bias comes from \n",
      "GPT-2 generated text:\n",
      "Algorithmic bias comes from a systematic bias’s use of data’s performance to evaluate its effectiveness in decision-making. The systematic bias in an  expert’s decision regarding the “use of “data’ is not only one of the most frequently encountered pitfalls of statistical analysis, it is also a major driver for the un-statistics that researchers develop when they use their data in analytical disciplines like assessments in intelligence.The research agenda often shifts from systematic (i.e., bias and uncertainty) toward discursive (i.e., bias-focused) (see Figure 2). Some expert experts have discussed a more bias-focused analytical system approach (see Bias Theory, Bias Research: Toward an Expert-Conference Working Group, The Bias Research Emerging From the Academic Conference, The Bias Research: Toward an Expert-Conference Working Group, The Bias Research: Toward an Expert\n",
      "SAG generated text:\n",
      "Algorithmic bias comes from a belief that we can predict the correct dysfunction and regard the correct dysfunction on a random map from our inputs which we then need to select the correct dysfunction and regard the correct dysfunction on this map. The Dysfunction  function is so important or important that  its “prediction” is not the best measure of the dysfunction’ but is the same as “being accurate on the correct dysfunction ”(or “being accurate on the correct dysfunction ”(or “being accurate on the correct dysfunction ”(or [ ])) ”. As in “dysfunction”, (the dysfunction is the “random map” of data). The Dysfunction  function has two parameter: its  value  and “pred\n"
     ]
    }
   ],
   "source": [
    "print_generated_text(\"Algorithmic bias comes from\")"
   ]
  }
 ],
 "metadata": {
  "kernelspec": {
   "display_name": "Python 3 (ipykernel)",
   "language": "python",
   "name": "python3"
  },
  "language_info": {
   "codemirror_mode": {
    "name": "ipython",
    "version": 3
   },
   "file_extension": ".py",
   "mimetype": "text/x-python",
   "name": "python",
   "nbconvert_exporter": "python",
   "pygments_lexer": "ipython3",
   "version": "3.8.8"
  }
 },
 "nbformat": 4,
 "nbformat_minor": 5
}
