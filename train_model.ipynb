{
 "cells": [
  {
   "cell_type": "markdown",
   "id": "bec29c02",
   "metadata": {},
   "source": [
    "This notebook illustrates fine-tuning the GPT-2 model on the scientific article data"
   ]
  },
  {
   "cell_type": "markdown",
   "id": "633d974e",
   "metadata": {},
   "source": [
    "Import required libraries"
   ]
  },
  {
   "cell_type": "code",
   "execution_count": 17,
   "id": "220ff599",
   "metadata": {},
   "outputs": [],
   "source": [
    "from transformers import AutoModelForCausalLM, AutoTokenizer, top_k_top_p_filtering, TrainingArguments, Trainer, default_data_collator\n",
    "import torch\n",
    "from torch import nn\n",
    "import pickle\n",
    "from datasets import Dataset, Features\n",
    "import math\n",
    "from huggingface_hub import notebook_login"
   ]
  },
  {
   "cell_type": "markdown",
   "id": "e3c9f2e3",
   "metadata": {},
   "source": [
    "Load the articles object"
   ]
  },
  {
   "cell_type": "code",
   "execution_count": 2,
   "id": "89793fa4",
   "metadata": {},
   "outputs": [],
   "source": [
    "with open(\"articles.obj\", \"rb\") as f:\n",
    "    articles = pickle.load(f)"
   ]
  },
  {
   "cell_type": "markdown",
   "id": "3f184d87",
   "metadata": {},
   "source": [
    "Convert the articles into a dictionary format appropriate for loading into a Hugging Face dataset and filter out any where the title was not read properly."
   ]
  },
  {
   "cell_type": "code",
   "execution_count": 3,
   "id": "d17ffbdf",
   "metadata": {},
   "outputs": [],
   "source": [
    "articles_t = {\"pmc\":list(),\"title\":list(),\"abstract\":list(),\"introduction\":list(),\n",
    "              \"result\":list(),\"discussion\":list(),\"conclusion\":list()}\n",
    "for article in articles:\n",
    "    if(articles[article][\"title\"].strip()==\"\"):\n",
    "        continue\n",
    "    articles_t[\"pmc\"].append(article)\n",
    "    for sec in articles[article]:\n",
    "        articles_t[sec].append(articles[article][sec])"
   ]
  },
  {
   "cell_type": "markdown",
   "id": "7bd41f30",
   "metadata": {},
   "source": [
    "Convert the articles into a Hugging Face dataset and ensure it loaded correctly"
   ]
  },
  {
   "cell_type": "code",
   "execution_count": 4,
   "id": "39c956b5",
   "metadata": {},
   "outputs": [
    {
     "name": "stdout",
     "output_type": "stream",
     "text": [
      "Dataset({\n",
      "    features: ['pmc', 'title', 'abstract', 'introduction', 'result', 'discussion', 'conclusion'],\n",
      "    num_rows: 7020\n",
      "})\n"
     ]
    }
   ],
   "source": [
    "articles_dataset = Dataset.from_dict(articles_t)\n",
    "print(articles_dataset)"
   ]
  },
  {
   "cell_type": "markdown",
   "id": "e79df004",
   "metadata": {},
   "source": [
    "For later ease of processing, filter only the articles with introductions and then split into a training and test set."
   ]
  },
  {
   "cell_type": "code",
   "execution_count": 5,
   "id": "70dd1b0b",
   "metadata": {
    "scrolled": true
   },
   "outputs": [
    {
     "data": {
      "application/vnd.jupyter.widget-view+json": {
       "model_id": "acecda27c6c24c7496540b58cb0358bd",
       "version_major": 2,
       "version_minor": 0
      },
      "text/plain": [
       "  0%|          | 0/8 [00:00<?, ?ba/s]"
      ]
     },
     "metadata": {},
     "output_type": "display_data"
    },
    {
     "name": "stdout",
     "output_type": "stream",
     "text": [
      "DatasetDict({\n",
      "    train: Dataset({\n",
      "        features: ['pmc', 'title', 'abstract', 'introduction', 'result', 'discussion', 'conclusion'],\n",
      "        num_rows: 4284\n",
      "    })\n",
      "    test: Dataset({\n",
      "        features: ['pmc', 'title', 'abstract', 'introduction', 'result', 'discussion', 'conclusion'],\n",
      "        num_rows: 1071\n",
      "    })\n",
      "})\n"
     ]
    }
   ],
   "source": [
    "intros_dataset = articles_dataset.filter(lambda example: example[\"introduction\"]!=\"\")\n",
    "intros_dataset = intros_dataset.train_test_split(train_size=0.8)\n",
    "print(intros_dataset)"
   ]
  },
  {
   "cell_type": "markdown",
   "id": "a1a665c2",
   "metadata": {},
   "source": [
    "Load the GPT-2 tokenizer and model. Set the padding token to be the end of string token"
   ]
  },
  {
   "cell_type": "code",
   "execution_count": 6,
   "id": "e00190a2",
   "metadata": {},
   "outputs": [],
   "source": [
    "tokenizer = AutoTokenizer.from_pretrained(\"gpt2\")\n",
    "model = AutoModelForCausalLM.from_pretrained(\"gpt2\")\n",
    "tokenizer.pad_token = tokenizer.eos_token"
   ]
  },
  {
   "cell_type": "markdown",
   "id": "7eda0280",
   "metadata": {},
   "source": [
    "Define a function to tokenize the title and introductions into prompt and text for the model. Tokenization converts the words of the text into a format interpretable by the model"
   ]
  },
  {
   "cell_type": "code",
   "execution_count": 7,
   "id": "ccea4921",
   "metadata": {},
   "outputs": [],
   "source": [
    "def intros_preprocess_function(examples):\n",
    "    inputs = tokenizer(examples[\"title\"], examples[\"introduction\"], max_length=1024, truncation=\"only_second\", \n",
    "                     padding=\"max_length\")\n",
    "    inputs[\"labels\"] = inputs[\"input_ids\"].copy()\n",
    "    return inputs"
   ]
  },
  {
   "cell_type": "markdown",
   "id": "24ef64b4",
   "metadata": {},
   "source": [
    "Tokenize the intros and ensure they look as expected"
   ]
  },
  {
   "cell_type": "code",
   "execution_count": 8,
   "id": "ae24ef04",
   "metadata": {
    "scrolled": true
   },
   "outputs": [],
   "source": [
    "tokenized_intros = intros_dataset.map(intros_preprocess_function, num_proc=3,  \n",
    "                                     remove_columns=intros_dataset['train'].column_names)"
   ]
  },
  {
   "cell_type": "code",
   "execution_count": 9,
   "id": "0e8c4ba2",
   "metadata": {},
   "outputs": [
    {
     "name": "stdout",
     "output_type": "stream",
     "text": [
      "DatasetDict({\n",
      "    train: Dataset({\n",
      "        features: ['input_ids', 'attention_mask', 'labels'],\n",
      "        num_rows: 4284\n",
      "    })\n",
      "    test: Dataset({\n",
      "        features: ['input_ids', 'attention_mask', 'labels'],\n",
      "        num_rows: 1071\n",
      "    })\n",
      "})\n"
     ]
    }
   ],
   "source": [
    "print(tokenized_intros)"
   ]
  },
  {
   "cell_type": "markdown",
   "id": "86ed54c7",
   "metadata": {},
   "source": [
    "Set the training arguments, most are default to the documentation, though lowered batch sizes due to technical limitations"
   ]
  },
  {
   "cell_type": "code",
   "execution_count": 10,
   "id": "29da921c",
   "metadata": {},
   "outputs": [],
   "source": [
    "data_collator = default_data_collator\n",
    "training_args = TrainingArguments(\n",
    "    output_dir='./gpt2-finetuned-scientific-articles',\n",
    "    evaluation_strategy=\"epoch\",\n",
    "    learning_rate=2e-5,\n",
    "    per_device_train_batch_size=4,\n",
    "    per_device_eval_batch_size=4,\n",
    "    num_train_epochs=2,\n",
    "    weight_decay=0.01,\n",
    ")"
   ]
  },
  {
   "cell_type": "markdown",
   "id": "230543c5",
   "metadata": {},
   "source": [
    "Set up the trainer for fine-tuning and run the training."
   ]
  },
  {
   "cell_type": "code",
   "execution_count": 11,
   "id": "14ab0f4e",
   "metadata": {},
   "outputs": [],
   "source": [
    "trainer = Trainer(\n",
    "    model=model,\n",
    "    args=training_args,\n",
    "    train_dataset=tokenized_intros['train'],\n",
    "    eval_dataset=tokenized_intros['test'],\n",
    "    data_collator=data_collator,\n",
    "    tokenizer=tokenizer\n",
    ")"
   ]
  },
  {
   "cell_type": "code",
   "execution_count": 12,
   "id": "cd0324a6",
   "metadata": {
    "scrolled": false
   },
   "outputs": [
    {
     "name": "stderr",
     "output_type": "stream",
     "text": [
      "***** Running training *****\n",
      "  Num examples = 4284\n",
      "  Num Epochs = 2\n",
      "  Instantaneous batch size per device = 4\n",
      "  Total train batch size (w. parallel, distributed & accumulation) = 4\n",
      "  Gradient Accumulation steps = 1\n",
      "  Total optimization steps = 2142\n"
     ]
    },
    {
     "data": {
      "text/html": [
       "\n",
       "    <div>\n",
       "      \n",
       "      <progress value='2142' max='2142' style='width:300px; height:20px; vertical-align: middle;'></progress>\n",
       "      [2142/2142 15:40:51, Epoch 2/2]\n",
       "    </div>\n",
       "    <table border=\"1\" class=\"dataframe\">\n",
       "  <thead>\n",
       "    <tr style=\"text-align: left;\">\n",
       "      <th>Epoch</th>\n",
       "      <th>Training Loss</th>\n",
       "      <th>Validation Loss</th>\n",
       "    </tr>\n",
       "  </thead>\n",
       "  <tbody>\n",
       "    <tr>\n",
       "      <td>1</td>\n",
       "      <td>2.529300</td>\n",
       "      <td>2.389173</td>\n",
       "    </tr>\n",
       "    <tr>\n",
       "      <td>2</td>\n",
       "      <td>2.482100</td>\n",
       "      <td>2.379318</td>\n",
       "    </tr>\n",
       "  </tbody>\n",
       "</table><p>"
      ],
      "text/plain": [
       "<IPython.core.display.HTML object>"
      ]
     },
     "metadata": {},
     "output_type": "display_data"
    },
    {
     "name": "stderr",
     "output_type": "stream",
     "text": [
      "Saving model checkpoint to ./gpt2-finetuned-scientific-articles/checkpoint-500\n",
      "Configuration saved in ./gpt2-finetuned-scientific-articles/checkpoint-500/config.json\n",
      "Model weights saved in ./gpt2-finetuned-scientific-articles/checkpoint-500/pytorch_model.bin\n",
      "tokenizer config file saved in ./gpt2-finetuned-scientific-articles/checkpoint-500/tokenizer_config.json\n",
      "Special tokens file saved in ./gpt2-finetuned-scientific-articles/checkpoint-500/special_tokens_map.json\n",
      "Saving model checkpoint to ./gpt2-finetuned-scientific-articles/checkpoint-1000\n",
      "Configuration saved in ./gpt2-finetuned-scientific-articles/checkpoint-1000/config.json\n",
      "Model weights saved in ./gpt2-finetuned-scientific-articles/checkpoint-1000/pytorch_model.bin\n",
      "tokenizer config file saved in ./gpt2-finetuned-scientific-articles/checkpoint-1000/tokenizer_config.json\n",
      "Special tokens file saved in ./gpt2-finetuned-scientific-articles/checkpoint-1000/special_tokens_map.json\n",
      "***** Running Evaluation *****\n",
      "  Num examples = 1071\n",
      "  Batch size = 4\n",
      "Saving model checkpoint to ./gpt2-finetuned-scientific-articles/checkpoint-1500\n",
      "Configuration saved in ./gpt2-finetuned-scientific-articles/checkpoint-1500/config.json\n",
      "Model weights saved in ./gpt2-finetuned-scientific-articles/checkpoint-1500/pytorch_model.bin\n",
      "tokenizer config file saved in ./gpt2-finetuned-scientific-articles/checkpoint-1500/tokenizer_config.json\n",
      "Special tokens file saved in ./gpt2-finetuned-scientific-articles/checkpoint-1500/special_tokens_map.json\n",
      "Saving model checkpoint to ./gpt2-finetuned-scientific-articles/checkpoint-2000\n",
      "Configuration saved in ./gpt2-finetuned-scientific-articles/checkpoint-2000/config.json\n",
      "Model weights saved in ./gpt2-finetuned-scientific-articles/checkpoint-2000/pytorch_model.bin\n",
      "tokenizer config file saved in ./gpt2-finetuned-scientific-articles/checkpoint-2000/tokenizer_config.json\n",
      "Special tokens file saved in ./gpt2-finetuned-scientific-articles/checkpoint-2000/special_tokens_map.json\n",
      "***** Running Evaluation *****\n",
      "  Num examples = 1071\n",
      "  Batch size = 4\n",
      "\n",
      "\n",
      "Training completed. Do not forget to share your model on huggingface.co/models =)\n",
      "\n",
      "\n"
     ]
    },
    {
     "data": {
      "text/plain": [
       "TrainOutput(global_step=2142, training_loss=2.5094094583634234, metrics={'train_runtime': 56480.4096, 'train_samples_per_second': 0.152, 'train_steps_per_second': 0.038, 'total_flos': 4477500260352000.0, 'train_loss': 2.5094094583634234, 'epoch': 2.0})"
      ]
     },
     "execution_count": 12,
     "metadata": {},
     "output_type": "execute_result"
    }
   ],
   "source": [
    "trainer.train()"
   ]
  },
  {
   "cell_type": "markdown",
   "id": "a0777435",
   "metadata": {},
   "source": [
    "Measure the perplexity of the trainer"
   ]
  },
  {
   "cell_type": "code",
   "execution_count": 15,
   "id": "ebcb7db9",
   "metadata": {},
   "outputs": [
    {
     "name": "stdout",
     "output_type": "stream",
     "text": [
      "Perplexity: 10.80\n"
     ]
    }
   ],
   "source": [
    "eval_results = trainer.evaluate()\n",
    "print(f\"Perplexity: {math.exp(eval_results['eval_loss']):.2f}\")"
   ]
  },
  {
   "cell_type": "markdown",
   "id": "129773b2",
   "metadata": {},
   "source": [
    "Login to the Hugging Face hub and push the model to the repository"
   ]
  },
  {
   "cell_type": "code",
   "execution_count": 56,
   "id": "b0d89039",
   "metadata": {},
   "outputs": [
    {
     "name": "stdout",
     "output_type": "stream",
     "text": [
      "Login successful\n",
      "Your token has been saved to /home/shariq/.huggingface/token\n"
     ]
    }
   ],
   "source": [
    "notebook_login()"
   ]
  },
  {
   "cell_type": "code",
   "execution_count": 58,
   "id": "5204684a",
   "metadata": {
    "scrolled": false
   },
   "outputs": [
    {
     "name": "stderr",
     "output_type": "stream",
     "text": [
      "Saving model checkpoint to ./gpt2-finetuned-scientific-articles\n",
      "Configuration saved in ./gpt2-finetuned-scientific-articles/config.json\n",
      "Model weights saved in ./gpt2-finetuned-scientific-articles/pytorch_model.bin\n",
      "tokenizer config file saved in ./gpt2-finetuned-scientific-articles/tokenizer_config.json\n",
      "Special tokens file saved in ./gpt2-finetuned-scientific-articles/special_tokens_map.json\n",
      "Dropping the following result as it does not have all the necessary fields:\n",
      "{'task': {'name': 'Causal Language Modeling', 'type': 'text-generation'}}\n"
     ]
    }
   ],
   "source": [
    "#trainer.args.hub_model_id = \"ssmadha/gpt2-finetuned-scientific-articles\"\n",
    "trainer.push_to_hub()"
   ]
  }
 ],
 "metadata": {
  "kernelspec": {
   "display_name": "Python 3 (ipykernel)",
   "language": "python",
   "name": "python3"
  },
  "language_info": {
   "codemirror_mode": {
    "name": "ipython",
    "version": 3
   },
   "file_extension": ".py",
   "mimetype": "text/x-python",
   "name": "python",
   "nbconvert_exporter": "python",
   "pygments_lexer": "ipython3",
   "version": "3.8.8"
  }
 },
 "nbformat": 4,
 "nbformat_minor": 5
}
